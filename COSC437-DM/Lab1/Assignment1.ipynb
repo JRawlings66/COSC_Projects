{
 "cells": [
  {
   "cell_type": "markdown",
   "id": "e02b38d5",
   "metadata": {},
   "source": [
    "# COSC 437 Data Mining - Lab Assignment 1 - Exploratory Data Analysis in Python\n",
    "\n",
    "In this lab assignment, you are going to use Python and packages to process fictional data on university students grades. "
   ]
  },
  {
   "cell_type": "code",
   "execution_count": 3,
   "id": "4fa05394",
   "metadata": {
    "ExecuteTime": {
     "end_time": "2025-01-24T02:12:20.464200400Z",
     "start_time": "2025-01-24T02:12:19.499572400Z"
    }
   },
   "outputs": [
    {
     "name": "stderr",
     "output_type": "stream",
     "text": [
      "C:\\Users\\Jacob\\anaconda3\\envs\\data_mining\\Lib\\site-packages\\numpy\\__init__.py:111: UserWarning: mkl-service package failed to import, therefore Intel(R) MKL initialization ensuring its correct out-of-the box operation under condition when Gnu OpenMP had already been loaded by Python process is not assured. Please install mkl-service package, see http://github.com/IntelPython/mkl-service\n",
      "  from . import _distributor_init\n"
     ]
    },
    {
     "ename": "ImportError",
     "evalue": "Error importing numpy: you should not try to import numpy from\n        its source directory; please exit the numpy source tree, and relaunch\n        your python interpreter from there.",
     "output_type": "error",
     "traceback": [
      "\u001B[1;31m---------------------------------------------------------------------------\u001B[0m",
      "\u001B[1;31mImportError\u001B[0m                               Traceback (most recent call last)",
      "File \u001B[1;32m~\\anaconda3\\envs\\data_mining\\Lib\\site-packages\\numpy\\_core\\__init__.py:23\u001B[0m\n\u001B[0;32m     22\u001B[0m \u001B[38;5;28;01mtry\u001B[39;00m:\n\u001B[1;32m---> 23\u001B[0m     \u001B[38;5;28;01mfrom\u001B[39;00m \u001B[38;5;21;01m.\u001B[39;00m \u001B[38;5;28;01mimport\u001B[39;00m multiarray\n\u001B[0;32m     24\u001B[0m \u001B[38;5;28;01mexcept\u001B[39;00m \u001B[38;5;167;01mImportError\u001B[39;00m \u001B[38;5;28;01mas\u001B[39;00m exc:\n",
      "File \u001B[1;32m~\\anaconda3\\envs\\data_mining\\Lib\\site-packages\\numpy\\_core\\multiarray.py:10\u001B[0m\n\u001B[0;32m      9\u001B[0m \u001B[38;5;28;01mimport\u001B[39;00m \u001B[38;5;21;01mfunctools\u001B[39;00m\n\u001B[1;32m---> 10\u001B[0m \u001B[38;5;28;01mfrom\u001B[39;00m \u001B[38;5;21;01m.\u001B[39;00m \u001B[38;5;28;01mimport\u001B[39;00m overrides\n\u001B[0;32m     11\u001B[0m \u001B[38;5;28;01mfrom\u001B[39;00m \u001B[38;5;21;01m.\u001B[39;00m \u001B[38;5;28;01mimport\u001B[39;00m _multiarray_umath\n",
      "File \u001B[1;32m~\\anaconda3\\envs\\data_mining\\Lib\\site-packages\\numpy\\_core\\overrides.py:7\u001B[0m\n\u001B[0;32m      6\u001B[0m \u001B[38;5;28;01mfrom\u001B[39;00m \u001B[38;5;21;01m.\u001B[39;00m\u001B[38;5;21;01m.\u001B[39;00m\u001B[38;5;21;01m_utils\u001B[39;00m\u001B[38;5;21;01m.\u001B[39;00m\u001B[38;5;21;01m_inspect\u001B[39;00m \u001B[38;5;28;01mimport\u001B[39;00m getargspec\n\u001B[1;32m----> 7\u001B[0m \u001B[38;5;28;01mfrom\u001B[39;00m \u001B[38;5;21;01mnumpy\u001B[39;00m\u001B[38;5;21;01m.\u001B[39;00m\u001B[38;5;21;01m_core\u001B[39;00m\u001B[38;5;21;01m.\u001B[39;00m\u001B[38;5;21;01m_multiarray_umath\u001B[39;00m \u001B[38;5;28;01mimport\u001B[39;00m (\n\u001B[0;32m      8\u001B[0m     add_docstring,  _get_implementing_args, _ArrayFunctionDispatcher)\n\u001B[0;32m     11\u001B[0m ARRAY_FUNCTIONS \u001B[38;5;241m=\u001B[39m \u001B[38;5;28mset\u001B[39m()\n",
      "\u001B[1;31mImportError\u001B[0m: DLL load failed while importing _multiarray_umath: The specified module could not be found.",
      "\nDuring handling of the above exception, another exception occurred:\n",
      "\u001B[1;31mImportError\u001B[0m                               Traceback (most recent call last)",
      "File \u001B[1;32m~\\anaconda3\\envs\\data_mining\\Lib\\site-packages\\numpy\\__init__.py:114\u001B[0m\n\u001B[0;32m    113\u001B[0m \u001B[38;5;28;01mtry\u001B[39;00m:\n\u001B[1;32m--> 114\u001B[0m     \u001B[38;5;28;01mfrom\u001B[39;00m \u001B[38;5;21;01mnumpy\u001B[39;00m\u001B[38;5;21;01m.\u001B[39;00m\u001B[38;5;21;01m__config__\u001B[39;00m \u001B[38;5;28;01mimport\u001B[39;00m show_config\n\u001B[0;32m    115\u001B[0m \u001B[38;5;28;01mexcept\u001B[39;00m \u001B[38;5;167;01mImportError\u001B[39;00m \u001B[38;5;28;01mas\u001B[39;00m e:\n",
      "File \u001B[1;32m~\\anaconda3\\envs\\data_mining\\Lib\\site-packages\\numpy\\__config__.py:4\u001B[0m\n\u001B[0;32m      3\u001B[0m \u001B[38;5;28;01mfrom\u001B[39;00m \u001B[38;5;21;01menum\u001B[39;00m \u001B[38;5;28;01mimport\u001B[39;00m Enum\n\u001B[1;32m----> 4\u001B[0m \u001B[38;5;28;01mfrom\u001B[39;00m \u001B[38;5;21;01mnumpy\u001B[39;00m\u001B[38;5;21;01m.\u001B[39;00m\u001B[38;5;21;01m_core\u001B[39;00m\u001B[38;5;21;01m.\u001B[39;00m\u001B[38;5;21;01m_multiarray_umath\u001B[39;00m \u001B[38;5;28;01mimport\u001B[39;00m (\n\u001B[0;32m      5\u001B[0m     __cpu_features__,\n\u001B[0;32m      6\u001B[0m     __cpu_baseline__,\n\u001B[0;32m      7\u001B[0m     __cpu_dispatch__,\n\u001B[0;32m      8\u001B[0m )\n\u001B[0;32m     10\u001B[0m __all__ \u001B[38;5;241m=\u001B[39m [\u001B[38;5;124m\"\u001B[39m\u001B[38;5;124mshow_config\u001B[39m\u001B[38;5;124m\"\u001B[39m]\n",
      "File \u001B[1;32m~\\anaconda3\\envs\\data_mining\\Lib\\site-packages\\numpy\\_core\\__init__.py:49\u001B[0m\n\u001B[0;32m     26\u001B[0m     msg \u001B[38;5;241m=\u001B[39m \u001B[38;5;124m\"\"\"\u001B[39m\n\u001B[0;32m     27\u001B[0m \n\u001B[0;32m     28\u001B[0m \u001B[38;5;124mIMPORTANT: PLEASE READ THIS FOR ADVICE ON HOW TO SOLVE THIS ISSUE!\u001B[39m\n\u001B[1;32m   (...)\u001B[0m\n\u001B[0;32m     47\u001B[0m \u001B[38;5;124m\"\"\"\u001B[39m \u001B[38;5;241m%\u001B[39m (sys\u001B[38;5;241m.\u001B[39mversion_info[\u001B[38;5;241m0\u001B[39m], sys\u001B[38;5;241m.\u001B[39mversion_info[\u001B[38;5;241m1\u001B[39m], sys\u001B[38;5;241m.\u001B[39mexecutable,\n\u001B[0;32m     48\u001B[0m         __version__, exc)\n\u001B[1;32m---> 49\u001B[0m     \u001B[38;5;28;01mraise\u001B[39;00m \u001B[38;5;167;01mImportError\u001B[39;00m(msg)\n\u001B[0;32m     50\u001B[0m \u001B[38;5;28;01mfinally\u001B[39;00m:\n",
      "\u001B[1;31mImportError\u001B[0m: \n\nIMPORTANT: PLEASE READ THIS FOR ADVICE ON HOW TO SOLVE THIS ISSUE!\n\nImporting the numpy C-extensions failed. This error can happen for\nmany reasons, often due to issues with your setup or how NumPy was\ninstalled.\n\nWe have compiled some common reasons and troubleshooting tips at:\n\n    https://numpy.org/devdocs/user/troubleshooting-importerror.html\n\nPlease note and check the following:\n\n  * The Python version is: Python3.11 from \"C:\\Users\\Jacob\\anaconda3\\envs\\data_mining\\python.exe\"\n  * The NumPy version is: \"2.2.1\"\n\nand make sure that they are the versions you expect.\nPlease carefully study the documentation linked above for further help.\n\nOriginal error was: DLL load failed while importing _multiarray_umath: The specified module could not be found.\n",
      "\nThe above exception was the direct cause of the following exception:\n",
      "\u001B[1;31mImportError\u001B[0m                               Traceback (most recent call last)",
      "Cell \u001B[1;32mIn[3], line 1\u001B[0m\n\u001B[1;32m----> 1\u001B[0m \u001B[38;5;28;01mimport\u001B[39;00m \u001B[38;5;21;01mnumpy\u001B[39;00m \u001B[38;5;28;01mas\u001B[39;00m \u001B[38;5;21;01mnp\u001B[39;00m\n\u001B[0;32m      2\u001B[0m \u001B[38;5;28;01mimport\u001B[39;00m \u001B[38;5;21;01mpandas\u001B[39;00m \u001B[38;5;28;01mas\u001B[39;00m \u001B[38;5;21;01mpd\u001B[39;00m\n\u001B[0;32m      3\u001B[0m \u001B[38;5;28;01mimport\u001B[39;00m \u001B[38;5;21;01mmatplotlib\u001B[39;00m\u001B[38;5;21;01m.\u001B[39;00m\u001B[38;5;21;01mpyplot\u001B[39;00m \u001B[38;5;28;01mas\u001B[39;00m \u001B[38;5;21;01mplt\u001B[39;00m\n",
      "File \u001B[1;32m~\\anaconda3\\envs\\data_mining\\Lib\\site-packages\\numpy\\__init__.py:119\u001B[0m\n\u001B[0;32m    115\u001B[0m \u001B[38;5;28;01mexcept\u001B[39;00m \u001B[38;5;167;01mImportError\u001B[39;00m \u001B[38;5;28;01mas\u001B[39;00m e:\n\u001B[0;32m    116\u001B[0m     msg \u001B[38;5;241m=\u001B[39m \u001B[38;5;124m\"\"\"\u001B[39m\u001B[38;5;124mError importing numpy: you should not try to import numpy from\u001B[39m\n\u001B[0;32m    117\u001B[0m \u001B[38;5;124m    its source directory; please exit the numpy source tree, and relaunch\u001B[39m\n\u001B[0;32m    118\u001B[0m \u001B[38;5;124m    your python interpreter from there.\u001B[39m\u001B[38;5;124m\"\"\"\u001B[39m\n\u001B[1;32m--> 119\u001B[0m     \u001B[38;5;28;01mraise\u001B[39;00m \u001B[38;5;167;01mImportError\u001B[39;00m(msg) \u001B[38;5;28;01mfrom\u001B[39;00m \u001B[38;5;21;01me\u001B[39;00m\n\u001B[0;32m    121\u001B[0m \u001B[38;5;28;01mfrom\u001B[39;00m \u001B[38;5;21;01m.\u001B[39;00m \u001B[38;5;28;01mimport\u001B[39;00m _core\n\u001B[0;32m    122\u001B[0m \u001B[38;5;28;01mfrom\u001B[39;00m \u001B[38;5;21;01m.\u001B[39;00m\u001B[38;5;21;01m_core\u001B[39;00m \u001B[38;5;28;01mimport\u001B[39;00m (\n\u001B[0;32m    123\u001B[0m     False_, ScalarType, True_,\n\u001B[0;32m    124\u001B[0m     \u001B[38;5;28mabs\u001B[39m, absolute, acos, acosh, add, \u001B[38;5;28mall\u001B[39m, allclose,\n\u001B[1;32m   (...)\u001B[0m\n\u001B[0;32m    169\u001B[0m     vecmat, void, vstack, where, zeros, zeros_like\n\u001B[0;32m    170\u001B[0m )\n",
      "\u001B[1;31mImportError\u001B[0m: Error importing numpy: you should not try to import numpy from\n        its source directory; please exit the numpy source tree, and relaunch\n        your python interpreter from there."
     ]
    }
   ],
   "source": [
    "import numpy as np\n",
    "import pandas as pd\n",
    "import matplotlib.pyplot as plt"
   ]
  },
  {
   "cell_type": "markdown",
   "id": "8bec504f-eb4b-48ff-93a0-294bddc92ac5",
   "metadata": {},
   "source": [
    "First, load the data from the file student_grades.csv. It will be easier to load it as a pandas DataFrame."
   ]
  },
  {
   "cell_type": "code",
   "execution_count": null,
   "id": "db62886d-2859-4bed-bcde-f57481f08986",
   "metadata": {},
   "outputs": [],
   "source": [
    "# TODO: Your code here\n",
    "student_grades_data = pd."
   ]
  },
  {
   "cell_type": "markdown",
   "id": "f7e09ffe",
   "metadata": {},
   "source": [
    "Now, take a look at the data and understand how the data look like:"
   ]
  },
  {
   "cell_type": "code",
   "execution_count": null,
   "id": "843b313b",
   "metadata": {},
   "outputs": [],
   "source": [
    "# TODO: Your code here"
   ]
  },
  {
   "cell_type": "markdown",
   "id": "95e04224",
   "metadata": {},
   "source": [
    "Answer the question: How many courses are there and how many students are recorded?"
   ]
  },
  {
   "cell_type": "code",
   "execution_count": null,
   "id": "393479da",
   "metadata": {},
   "outputs": [],
   "source": [
    "# Write your answer below:\n",
    "n_students = 0\n",
    "n_courses = 0\n",
    "print(f\"There are {n_students} students and {n_courses} courses in the data set.\")"
   ]
  },
  {
   "cell_type": "markdown",
   "id": "f14e5d0d",
   "metadata": {},
   "source": [
    "In this data set, some cells have empty value. For example, take a look at row 44:"
   ]
  },
  {
   "cell_type": "code",
   "execution_count": null,
   "id": "adc42734",
   "metadata": {},
   "outputs": [],
   "source": [
    "# TODO: Your code here"
   ]
  },
  {
   "cell_type": "markdown",
   "id": "3daafd56",
   "metadata": {},
   "source": [
    "We should set all the empty values to 0. While it's doable in for-loops. There are more efficient ways to do so."
   ]
  },
  {
   "cell_type": "code",
   "execution_count": null,
   "id": "7fd46267",
   "metadata": {},
   "outputs": [],
   "source": [
    "# TODO: Your code here."
   ]
  },
  {
   "cell_type": "markdown",
   "id": "02d746cc",
   "metadata": {},
   "source": [
    "Now let's take another look at row 44:"
   ]
  },
  {
   "cell_type": "code",
   "execution_count": null,
   "id": "48bf5af7",
   "metadata": {
    "scrolled": true
   },
   "outputs": [],
   "source": [
    "# TODO: Your code here."
   ]
  },
  {
   "cell_type": "markdown",
   "id": "a50d5f7f-4ae0-45c3-8b32-2dc449ad5d45",
   "metadata": {},
   "source": [
    "Choose an appropriate visualization method, show how students are performing (the distribution) in the course CS-105."
   ]
  },
  {
   "cell_type": "code",
   "execution_count": null,
   "id": "9a49b112-5dc9-435b-a2f7-82cd6d3efc56",
   "metadata": {},
   "outputs": [],
   "source": [
    "# TODO: Your code here."
   ]
  },
  {
   "cell_type": "markdown",
   "id": "3a6c0b4a-9325-47a7-9026-5d8689de070d",
   "metadata": {},
   "source": [
    "Choose an appropriate visualization method, show how students are performing in the three courses CS-105, CS-106, and EE-109."
   ]
  },
  {
   "cell_type": "code",
   "execution_count": null,
   "id": "e127ac23-a08f-46a0-ace0-6cae1184e794",
   "metadata": {},
   "outputs": [],
   "source": [
    "# TODO: Your code here."
   ]
  },
  {
   "cell_type": "markdown",
   "id": "f186f274-cb90-40bd-992f-3e815a736e79",
   "metadata": {
    "jupyter": {
     "source_hidden": true
    }
   },
   "source": [
    "Choose an appropriate visualization method, show how students performance are related in CS-105 and CS-106."
   ]
  },
  {
   "cell_type": "code",
   "execution_count": null,
   "id": "41059b30-ef59-4f62-b6ff-6b3dc75cf25e",
   "metadata": {},
   "outputs": [],
   "source": [
    "# TODO: Your code here."
   ]
  },
  {
   "cell_type": "markdown",
   "id": "3bcbd592",
   "metadata": {},
   "source": [
    "Since this data set contains purely numeric values, it is easy to work in numpy. Generate a numpy 2d array from the DataFrame. Notice that the first column is actually the student id. We are going to exclude it from our array."
   ]
  },
  {
   "cell_type": "code",
   "execution_count": null,
   "id": "d341c161",
   "metadata": {},
   "outputs": [],
   "source": [
    "# TODO: Your code here."
   ]
  },
  {
   "cell_type": "markdown",
   "id": "12979440",
   "metadata": {},
   "source": [
    "What is the data type of the elements in the array? Change the data type if appropriate."
   ]
  },
  {
   "cell_type": "code",
   "execution_count": null,
   "id": "c983ccba-e3bc-4e9e-9a6d-8892a02148bd",
   "metadata": {},
   "outputs": [],
   "source": [
    "# TODO: Your code here."
   ]
  },
  {
   "cell_type": "markdown",
   "id": "ec1c1b99",
   "metadata": {},
   "source": [
    "What is the average grade for every course?"
   ]
  },
  {
   "cell_type": "code",
   "execution_count": null,
   "id": "56eaf7fb",
   "metadata": {},
   "outputs": [],
   "source": [
    "# TODO: Your code here."
   ]
  },
  {
   "cell_type": "markdown",
   "id": "ab54b40f",
   "metadata": {},
   "source": [
    "Suppose that the grade point average (GPA) is calculated as a weighted average of all courses taken over the four years (in a scale of 100), and the weights are represented in an array. Define a method that calculate the GPA. Your method should work for multiple data entries:"
   ]
  },
  {
   "cell_type": "code",
   "execution_count": null,
   "id": "df0ba055",
   "metadata": {},
   "outputs": [],
   "source": [
    "course_weights = np.array([1,1,1,1,1,1,1,1,1,1,1,2,2,2,2,2,2,2,2,2,2,2,3,3,3,3,3,3,3,3,3,3,3,3,4,4,4,4,4,4,4])\n",
    "# TODO: define a method that has the following header\n",
    "def calc_gpa(grades, course_weights): \n",
    "    # implement your method here\n",
    "    pass"
   ]
  },
  {
   "cell_type": "code",
   "execution_count": null,
   "id": "e36209c3",
   "metadata": {},
   "outputs": [],
   "source": [
    "print(calc_gpa(grades_processed, course_weights))"
   ]
  },
  {
   "cell_type": "markdown",
   "id": "efa3078e",
   "metadata": {},
   "source": [
    "To print your assignment, first select Cell -> Run All. Then choose File -> Download as -> HTML. You should submit both the Jupyter Notebook file and theprinted HTML file. "
   ]
  }
 ],
 "metadata": {
  "kernelspec": {
   "display_name": "Python 3 (ipykernel)",
   "language": "python",
   "name": "python3"
  },
  "language_info": {
   "codemirror_mode": {
    "name": "ipython",
    "version": 3
   },
   "file_extension": ".py",
   "mimetype": "text/x-python",
   "name": "python",
   "nbconvert_exporter": "python",
   "pygments_lexer": "ipython3",
   "version": "3.10.16"
  }
 },
 "nbformat": 4,
 "nbformat_minor": 5
}
