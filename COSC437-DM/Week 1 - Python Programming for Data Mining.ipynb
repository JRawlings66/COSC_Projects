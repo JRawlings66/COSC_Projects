{
 "cells": [
  {
   "cell_type": "markdown",
   "id": "f81e723e-53b6-4b24-81cb-cb64f7bf0b1c",
   "metadata": {},
   "source": [
    "# Week 1 - Python Programming for Data Mining\n",
    "\n"
   ]
  },
  {
   "cell_type": "markdown",
   "id": "16442fa3-414e-4dac-978d-a7c82c32feca",
   "metadata": {},
   "source": [
    "## Python\n",
    "Python is a high-level, interpreted programming language known for its readability and versatility.\n",
    "- Easy-to-learn syntax\n",
    "- Extensive standard library\n",
    "- Supports multiple programming paradigms (procedural, object-oriented, functional)\n",
    "- Large community and ecosystem of third-party libraries\n",
    "\n",
    "Applications: Web development, Data Science, Machine Learning, Automation, etc.\n",
    "\n",
    "Key Concepts:\n",
    "\n",
    "- Dynamic typing: no need to declare variable types\n",
    "- Indentation-based syntax: no braces, use indentation for code blocks\n",
    "- Interpreted language: execute code line by line\n"
   ]
  },
  {
   "cell_type": "code",
   "execution_count": null,
   "id": "eb5cd16c-56e5-43d0-ae49-fb5c03d2b71b",
   "metadata": {},
   "outputs": [],
   "source": [
    "x = 10\n",
    "if x > 5:\n",
    "    print(\"x is greater than 5\")"
   ]
  },
  {
   "cell_type": "markdown",
   "id": "a95d2e49-5b68-4879-9136-15be9a785be9",
   "metadata": {},
   "source": [
    "## Jupyter Notebook and IPython\n",
    "**Jupyter Notebook** is an open-source web application that allows you to create and share documents containing live code, equations, visualizations, and text. \n",
    "\n",
    "- Supports multiple programming languages (Python, R, Julia, etc.)\n",
    "- Interactive and real-time code execution\n",
    "- Rich media support: plots, text, Markdown, LaTeX, and images\n",
    "- Widely used in data science, education, and scientific research.\n",
    "\n",
    "\n"
   ]
  },
  {
   "cell_type": "code",
   "execution_count": null,
   "id": "2da66081-0e12-4b5d-aa6a-63abeb21854f",
   "metadata": {},
   "outputs": [],
   "source": [
    "import numpy as np\n",
    "import matplotlib.pyplot as plt\n",
    "x = np.linspace(0, 10, 100)\n",
    "y = np.sin(x)\n",
    "plt.plot(x, y)"
   ]
  },
  {
   "cell_type": "markdown",
   "id": "8a0bc49c-cc00-4c2b-b66e-20d6669febcd",
   "metadata": {},
   "source": [
    "**IPython** stands for Interactive Python, an enhanced Python shell. Its most two important features we care about for this class are:\n",
    "1. Magic commands.\n",
    "1. Easy execution of shell commands within Python\n",
    "\n",
    "For a full list of magic commands, [click here](https://ipython.readthedocs.io/en/stable/interactive/magics.html).\n",
    "\n",
    "Magic commands we will be using in class:\n",
    "- `%time` and `%timeit`:"
   ]
  },
  {
   "cell_type": "code",
   "execution_count": null,
   "id": "bbe5d2c0-5753-4e53-9675-ca2400db2122",
   "metadata": {},
   "outputs": [],
   "source": [
    "def run_iteration(n):\n",
    "    s = 0\n",
    "    for i in range(n):\n",
    "        s = s + 1\n",
    "# use %time and %timeit to time an execution\n",
    "%timeit run_iteration(1000000)\n",
    "%timeit run_iteration(2000000)\n",
    "%time run_iteration(4000000)\n",
    "%time run_iteration(8000000)"
   ]
  },
  {
   "cell_type": "markdown",
   "id": "8f710970-731f-4c08-a94e-0885c0055973",
   "metadata": {},
   "source": [
    "- `%%writefile`: write text to a file"
   ]
  },
  {
   "cell_type": "code",
   "execution_count": null,
   "id": "12491996-f0c6-4036-8cea-265a2eb9385d",
   "metadata": {},
   "outputs": [],
   "source": [
    "%%writefile greet.py\n",
    "for i in range(5):\n",
    "    print(\"Hello COSC 437\")"
   ]
  },
  {
   "cell_type": "markdown",
   "id": "e2a6cc8c-571b-40d9-81c2-17445f4eff50",
   "metadata": {},
   "source": [
    "- `%run`: Run a Python script from an external file."
   ]
  },
  {
   "cell_type": "code",
   "execution_count": null,
   "id": "0376a437-aefd-4943-bc25-fa4a7bac009f",
   "metadata": {},
   "outputs": [],
   "source": [
    "%run greet.py"
   ]
  },
  {
   "cell_type": "markdown",
   "id": "51e84474-4bdb-4216-a203-d1ec56b68c1e",
   "metadata": {},
   "source": [
    "\n",
    "- `%pwd`: Print the current working directory.\n"
   ]
  },
  {
   "cell_type": "code",
   "execution_count": null,
   "id": "4fdf902d-5009-442a-a1bb-dd53cbb721da",
   "metadata": {},
   "outputs": [],
   "source": [
    "%pwd"
   ]
  },
  {
   "cell_type": "markdown",
   "id": "060e5e7b-b341-4020-8db0-b7ac98ff0760",
   "metadata": {},
   "source": [
    "- `%ls`: List the contents of the current directory"
   ]
  },
  {
   "cell_type": "code",
   "execution_count": null,
   "id": "e40c0283-08e3-4c98-8726-4651f888462f",
   "metadata": {},
   "outputs": [],
   "source": [
    "%ls"
   ]
  },
  {
   "cell_type": "markdown",
   "id": "33a60073-072a-4b90-845e-2cd3a13a46c8",
   "metadata": {},
   "source": [
    "- `%system`: run shell commands (you may also use the `!` operator, they work more or less the same)"
   ]
  },
  {
   "cell_type": "code",
   "execution_count": null,
   "id": "f06cc79a-c052-4f8e-b7d1-ddf4181d95a7",
   "metadata": {},
   "outputs": [],
   "source": [
    "%system dir"
   ]
  },
  {
   "cell_type": "markdown",
   "id": "44c75bac-a8ed-49b8-a376-6a2cd75515e1",
   "metadata": {},
   "source": [
    "- `%matplotlib inline`: Display plots inline in Jupyter Notebook. Usually is not needed."
   ]
  },
  {
   "cell_type": "markdown",
   "id": "b0b22a12-ace0-4bf4-836f-6b53e0d081a8",
   "metadata": {},
   "source": [
    "## Introduction to NumPy\n",
    "### Python's built-in lists"
   ]
  },
  {
   "cell_type": "code",
   "execution_count": null,
   "id": "2cbf0023-93c6-4789-b2af-7b32b0f9455e",
   "metadata": {},
   "outputs": [],
   "source": [
    "py_list = [1,2,3,4]\n",
    "py_list.append(5)\n",
    "print(type(py_list))\n",
    "print(py_list)"
   ]
  },
  {
   "cell_type": "code",
   "execution_count": null,
   "id": "9f71f068-ac1d-47f0-bb10-456d04efa033",
   "metadata": {},
   "outputs": [],
   "source": [
    "py_list.append(\"what is love\")\n",
    "print(py_list)"
   ]
  },
  {
   "cell_type": "code",
   "execution_count": null,
   "id": "b387c801-497c-4489-b962-6ece1a87e7c5",
   "metadata": {},
   "outputs": [],
   "source": [
    "py_list.append([\"baby don't hurt me\", \"don't hurt me\", \"no more\"])\n",
    "print(py_list)"
   ]
  },
  {
   "cell_type": "code",
   "execution_count": null,
   "id": "4bdcc931-6f3a-4673-a796-94d02ce319da",
   "metadata": {},
   "outputs": [],
   "source": [
    "print(py_list + 1)"
   ]
  },
  {
   "cell_type": "markdown",
   "id": "2b445648-02cb-4b4c-9b3b-b3d8cff08de4",
   "metadata": {},
   "source": [
    "### NumPy and `numpy.ndarray`"
   ]
  },
  {
   "cell_type": "code",
   "execution_count": null,
   "id": "fad2cc9a-a012-4ace-bb4b-997b27e0037e",
   "metadata": {},
   "outputs": [],
   "source": [
    "import numpy as np\n",
    "\n",
    "# create an numpy array from a python list\n",
    "number_list = [1,2,3,4,5]\n",
    "arr = np.array(number_list)\n",
    "print(arr)\n",
    "print(type(arr))"
   ]
  },
  {
   "cell_type": "markdown",
   "id": "6e1d0e91-cecb-4499-9270-a63473aeafe5",
   "metadata": {},
   "source": [
    "The `numpy.ndarray` class is the essence of NumPy. We are going to use it throughout this course. [ndarray document](https://numpy.org/doc/2.1/reference/generated/numpy.ndarray.html)"
   ]
  },
  {
   "cell_type": "code",
   "execution_count": null,
   "id": "423644b0-d8f1-403c-80bb-dbd8779615de",
   "metadata": {},
   "outputs": [],
   "source": [
    "arr + 1"
   ]
  },
  {
   "cell_type": "code",
   "execution_count": null,
   "id": "21d3a5f5-2374-49bc-a118-9bb7e3505f4d",
   "metadata": {},
   "outputs": [],
   "source": [
    "# unlike lists, elements in an array must be of the same data type\n",
    "print(arr.dtype)\n",
    "\n",
    "# the data type of the array itself is always numpy.ndarray\n",
    "print(type(arr))\n",
    "\n",
    "# We maybe working with memory-intensive tasks. Sometimes we need to estimate\n",
    "# how much memory our program will require\n",
    "print(arr.itemsize)"
   ]
  },
  {
   "cell_type": "code",
   "execution_count": null,
   "id": "150414c1-7189-4e73-a0e4-4f13c4ab6d7c",
   "metadata": {},
   "outputs": [],
   "source": [
    "# The length of an array, using Python's built-in len() function\n",
    "print(len(arr))\n",
    "\n",
    "# The size of an array, size and length are actually different as we will soon see\n",
    "print(arr.size)\n",
    "print(np.size(arr))\n",
    "\n",
    "# The shape of an array\n",
    "print(arr.shape)\n",
    "\n",
    "# The number of dimensions of an array\n",
    "print(arr.ndim)"
   ]
  },
  {
   "cell_type": "code",
   "execution_count": null,
   "id": "a7f91824-d2dc-4c49-9dd5-d6997d657aea",
   "metadata": {},
   "outputs": [],
   "source": [
    "# Let's see a two dimensional array\n",
    "two_dimensional = np.array([[1,2,3],[4,5,6]])"
   ]
  },
  {
   "cell_type": "markdown",
   "id": "51712aa6-bca7-479e-b2a8-2c405876ad0a",
   "metadata": {},
   "source": [
    "### Creating Arrays"
   ]
  },
  {
   "cell_type": "code",
   "execution_count": null,
   "id": "2fabf197-e7a4-4123-a6b2-addeebe046ec",
   "metadata": {},
   "outputs": [],
   "source": [
    "# No one actually uses the ndarray constructor\n",
    "# Create an array from a list\n",
    "np.array([1,2,3,4,5])\n",
    "\n",
    "# Create an array from a range object\n",
    "np.array(range(100))\n",
    "\n",
    "# The arange() function (not a typo) does the two things together! \n",
    "np.arange(100)"
   ]
  },
  {
   "cell_type": "code",
   "execution_count": null,
   "id": "2ab754b8-a485-4477-84af-b0fae1a1e27f",
   "metadata": {},
   "outputs": [],
   "source": [
    "# create an array of evenly spaced values\n",
    "# linearly-spaced values. the end point is actually included\n",
    "start = 0\n",
    "end = 100\n",
    "numbers_of_numbers = 101\n",
    "np.linspace(start, end, numbers_of_numbers)\n",
    "\n",
    "# logarithmetically-spaced values (default base is 10)\n",
    "start = 0\n",
    "end = 5\n",
    "numbers_of_numbers = 6\n",
    "np.logspace(start, end, numbers_of_numbers)"
   ]
  },
  {
   "cell_type": "code",
   "execution_count": null,
   "id": "391b20fa-b460-452e-8068-4457ba71d1dc",
   "metadata": {},
   "outputs": [],
   "source": [
    "# Most commonly used are these three:\n",
    "# create an array with whatever values (not really random)\n",
    "shape = (4,5)\n",
    "arr1 = np.empty(shape)\n",
    "\n",
    "# create an array of randomly generated values, in the range of [0,1)\n",
    "arr2 = np.random.random(shape)\n",
    "\n",
    "# create an array of zeros\n",
    "arr3 = np.zeros(shape)\n",
    "\n",
    "# create an array of all ones\n",
    "arr4 = np.ones(shape)"
   ]
  },
  {
   "cell_type": "code",
   "execution_count": null,
   "id": "415c6145-ed8a-4165-9bc6-5cd114c618f1",
   "metadata": {},
   "outputs": [],
   "source": [
    "# element data type are automatically chosen\n",
    "arr = np.array([1,2,3])\n",
    "print(arr.dtype)"
   ]
  },
  {
   "cell_type": "code",
   "execution_count": null,
   "id": "149725c7-65ea-42dc-a94b-7918c3569973",
   "metadata": {},
   "outputs": [],
   "source": [
    "# dtype may be specified at creation\n",
    "arr = np.array([1,2,3], dtype=np.float32)\n",
    "print(arr.dtype)\n",
    "\n",
    "# or changed using astype() function\n",
    "arr.astype(np.int16)"
   ]
  },
  {
   "cell_type": "markdown",
   "id": "9b3aa977-c112-4237-8741-572924c2d7ba",
   "metadata": {},
   "source": [
    "### Indexing, Slicing, and Masking"
   ]
  },
  {
   "cell_type": "code",
   "execution_count": null,
   "id": "fe5cfc1b-e99f-41d0-a908-0364da88f62f",
   "metadata": {},
   "outputs": [],
   "source": [
    "arr_1d = np.arange(100)\n",
    "arr_2d = np.arange(100).reshape(5,20)\n",
    "arr_3d = np.arange(100).reshape(5,5,4)"
   ]
  },
  {
   "cell_type": "code",
   "execution_count": null,
   "id": "217b93aa-4c29-4810-b039-e7a0633d0f5b",
   "metadata": {},
   "outputs": [],
   "source": [
    "# indexing with a simple index\n",
    "print(arr_1d[3])\n",
    "print(arr_2d[3])\n",
    "print(arr_3d[3])\n",
    "# notice that the dimensionality is collapsed"
   ]
  },
  {
   "cell_type": "code",
   "execution_count": null,
   "id": "6c47a359-6615-4650-a4a5-e184fd2c8b12",
   "metadata": {},
   "outputs": [],
   "source": [
    "# indexing with a list/array\n",
    "print(arr_1d[[2,1,2,3]])\n",
    "print(arr_2d[[2,1,2,3]])\n",
    "print(arr_3d[[2,1,2,3]])\n",
    "# useful for reording elements and matrix permutation\n"
   ]
  },
  {
   "cell_type": "code",
   "execution_count": null,
   "id": "e6d88375-f8d7-49a9-9634-aa6f9b1b5e8b",
   "metadata": {},
   "outputs": [],
   "source": [
    "# slicing\n",
    "print(arr_1d[3:10])\n",
    "print(arr_1d[10:50:2])\n",
    "print(arr_2d[1:3,1:3])"
   ]
  },
  {
   "cell_type": "markdown",
   "id": "a6e445f3-0c27-4599-aace-4115e0056093",
   "metadata": {},
   "source": []
  },
  {
   "cell_type": "code",
   "execution_count": null,
   "id": "21238b52-ee9a-459e-a3dc-420ab371ad69",
   "metadata": {},
   "outputs": [],
   "source": [
    "# masking\n"
   ]
  },
  {
   "cell_type": "markdown",
   "id": "ca51e25a-cfde-4ee7-8934-500355f15f08",
   "metadata": {},
   "source": [
    "### Aggregation functions\n",
    "`numpy.ndarray` has many useful aggregation functions:\n",
    "- `sum()`: Sum\n",
    "- `prod()`: Product\n",
    "- `mean()`: Mean, average\n",
    "- `max()`: Maximum\n",
    "- `min()`: Minimum\n",
    "- `std()`: Standard deviation\n",
    "- `var()`: Variance"
   ]
  },
  {
   "cell_type": "code",
   "execution_count": null,
   "id": "f094ee04-dea5-4b80-ab17-1597d779e8b3",
   "metadata": {},
   "outputs": [],
   "source": [
    "# we use sum as an example\n",
    "print(arr_1d.sum())\n",
    "print(arr_2d.sum())\n",
    "print(arr_3d.sum())"
   ]
  },
  {
   "cell_type": "code",
   "execution_count": null,
   "id": "c65d3eb8-3919-4712-8fec-2d96d62248a4",
   "metadata": {},
   "outputs": [],
   "source": [
    "# calculate sum over an axis\n",
    "print(arr_2d.sum(axis=0))\n",
    "print(arr_2d.sum(axis=1))"
   ]
  },
  {
   "cell_type": "markdown",
   "id": "918fa179-c3b4-4e8b-b688-37ca7cd7fc27",
   "metadata": {},
   "source": [
    "### Index Functions\n",
    "If we want to find out, not only the maximum, but also *which* one in the array is the maximum, we can use `argmax()` function."
   ]
  },
  {
   "cell_type": "code",
   "execution_count": null,
   "id": "32631b2b-1bf5-4016-80f2-d6aa25e0736f",
   "metadata": {},
   "outputs": [],
   "source": [
    "random_arr = (100 * np.random.random((10))).astype(np.int16)\n",
    "print(random_arr)"
   ]
  },
  {
   "cell_type": "code",
   "execution_count": null,
   "id": "79d9322c-2fd9-4af5-9522-7cf4a0f12d96",
   "metadata": {},
   "outputs": [],
   "source": [
    "print(random_arr.argmax())"
   ]
  },
  {
   "cell_type": "markdown",
   "id": "6e696d4d-6495-4dd8-a569-b88766879c69",
   "metadata": {},
   "source": [
    "Other index functions:\n",
    "- `argmin()` returns the index of the smallest element\n",
    "- `argsort()` returns the order of the items (this index can be used to sort the array)\n",
    "- `argwhere()` evaluate a boolean expression for all the elements, returns the index where the expression is true"
   ]
  },
  {
   "cell_type": "markdown",
   "id": "aac76503-9ed2-4e3f-93d8-8e60d7b48144",
   "metadata": {},
   "source": [
    "### `ndarray` operations"
   ]
  },
  {
   "cell_type": "code",
   "execution_count": null,
   "id": "ae38e449-852d-4f7c-8366-171b6e611eac",
   "metadata": {},
   "outputs": [],
   "source": [
    "arr1 = np.array([1,2,3,4]).reshape(2,2)\n",
    "arr2 = np.array([2,1,2,1]).reshape(2,2)\n",
    "print(arr1)\n",
    "print(arr2)"
   ]
  },
  {
   "cell_type": "code",
   "execution_count": null,
   "id": "d1f52821-7bad-4464-ae32-9cd0325a0e25",
   "metadata": {},
   "outputs": [],
   "source": [
    "# If both operators are arrays of the same shape, operations are element-wise\n",
    "print(arr1 + arr2)\n",
    "print(arr1 * arr2)\n",
    "print(arr1 ** arr2)"
   ]
  },
  {
   "cell_type": "markdown",
   "id": "03063738-25b1-4633-8b46-274724a7f5c7",
   "metadata": {},
   "source": [
    "If operators have different dimensionalities, the one of lower dimensionality will be broadcasted (when the shape is compatible):"
   ]
  },
  {
   "cell_type": "code",
   "execution_count": null,
   "id": "310f3c5e-e0b4-43fa-8984-04a179942571",
   "metadata": {},
   "outputs": [],
   "source": [
    "# simplest example: 1D operates with 0D (single number)\n",
    "arr = np.array([1,2,3,4])\n",
    "print(arr + 5)"
   ]
  },
  {
   "cell_type": "code",
   "execution_count": null,
   "id": "8eb987e6-9efe-486d-b703-a1d11c2d57f3",
   "metadata": {},
   "outputs": [],
   "source": [
    "# 2D operates with 1D:\n",
    "arr_2d = np.array([1,2,3,4]).reshape(2,2)\n",
    "arr_1d = np.array([5,6])\n",
    "print(arr_2d)\n",
    "print(arr_1d)\n",
    "print(arr_2d + arr_1d)"
   ]
  },
  {
   "cell_type": "markdown",
   "id": "c19ab412-b62a-4322-b8ab-7c70a2cb5775",
   "metadata": {},
   "source": [
    "### Vector and Matrix Multiplications\n",
    "These are the basic linear algebra operations. In NumPy, vectors and matrices are represented with 1-dimensional and 2-dimensional arrays.\n",
    "\n",
    "#### Dot product of two vectors\n",
    "Let $\\mathbf{a} = [a_1, a_2, ... , a_n]$ and $\\mathbf{b} = [b_1, b_2, ... , b_n]$ be two vectors of the same length. The dot product of them, is calculated as $$\\mathbf{a} \\cdot \\mathbf{b} = \\sum_{i=1}^n a_i  b_i$$"
   ]
  },
  {
   "cell_type": "code",
   "execution_count": null,
   "id": "574548b5-d312-46bb-b33c-edcce428032b",
   "metadata": {},
   "outputs": [],
   "source": [
    "a = np.array([1,2,3])\n",
    "b = np.array([2,3,4])\n",
    "print((a * b).sum())\n",
    "print(np.dot(a,b))"
   ]
  },
  {
   "cell_type": "markdown",
   "id": "09175b7e-3487-4208-bcf6-3826293d71dd",
   "metadata": {},
   "source": [
    "Matrix multiplication is defined as follows:\n",
    "\n",
    "Given two matrices, \n",
    "$$\\mathbf{A}_{m \\times n} = \n",
    "\\begin{bmatrix}\n",
    "a_{11} & a_{12} & \\cdots & a_{1n} \\\\\n",
    "a_{21} & a_{22} & \\cdots & a_{2n} \\\\\n",
    "\\vdots & \\vdots & \\ddots & \\vdots \\\\\n",
    "a_{m1} & a_{m2} & \\cdots & a_{mn}\n",
    "\\end{bmatrix}\n",
    "$$ and $$\\mathbf{B}_{n \\times p} =\n",
    "\\begin{bmatrix}\n",
    "b_{11} & b_{12} & \\cdots & b_{1p} \\\\\n",
    "b_{21} & b_{22} & \\cdots & b_{2p} \\\\\n",
    "\\vdots & \\vdots & \\ddots & \\vdots \\\\\n",
    "b_{n1} & b_{n2} & \\cdots & b_{np}\n",
    "\\end{bmatrix}\n",
    "$$, their product $\\mathbf{C} = \\mathbf{A} \\times \\mathbf{B} $, where $ \\mathbf{C} $ is an $ m \\times p $ matrix, is: \n",
    "$$\n",
    "\\mathbf{C}_{m \\times p} =\n",
    "\\begin{bmatrix}\n",
    "c_{11} & c_{12} & \\cdots & c_{1p} \\\\\n",
    "c_{21} & c_{22} & \\cdots & c_{2p} \\\\\n",
    "\\vdots & \\vdots & \\ddots & \\vdots \\\\\n",
    "c_{m1} & c_{m2} & \\cdots & c_{mp}\n",
    "\\end{bmatrix}$$\n",
    "Each element $c_{ij}$ of matrix $ \\mathbf{C} $ is calculated as:\n",
    "$$c_{ij} = \\sum_{k=1}^{n} a_{ik} \\cdot b_{kj}$$\n",
    "\n",
    "The dot product of two vectors is actually a matrix multiplication if you treat the first vector as a $m$ by 1 matrix (a column vector).\n",
    "\n"
   ]
  },
  {
   "cell_type": "code",
   "execution_count": null,
   "id": "1c495859-e24a-4e59-ac9c-a1775a33b27c",
   "metadata": {},
   "outputs": [],
   "source": [
    "# Matrix multiplication in NumPy\n",
    "a = np.arange(1,7).reshape(3,2)\n",
    "b = np.arange(8,0,-1).reshape(2,4)\n",
    "print(a)\n",
    "print(b)"
   ]
  },
  {
   "cell_type": "code",
   "execution_count": null,
   "id": "0e210dca-10da-4e28-8ce2-08e960ac92f3",
   "metadata": {},
   "outputs": [],
   "source": [
    "# It is recommended to use np.matmul() or @ operator to perform matrix multiplication\n",
    "print(np.matmul(a,b)) \n",
    "print(a@b)\n",
    "\n",
    "# for 2d matrices, np.dot() will also work, although not recommended.\n",
    "print(np.dot(a,b))"
   ]
  },
  {
   "cell_type": "markdown",
   "id": "58a58f8f-b731-4ced-a24c-7fa6650bd668",
   "metadata": {},
   "source": [
    "Why linear algebra? Recall how data is organized in data warehouse. A record is just a multi-dimensional data point. Each row is a data point, and each column is an attribute. Suppose we assign each attribute a weight:\n",
    "- How would you calculate the weighted sum of a record?\n",
    "- How would you calculate the weighted sum of all records together?\n",
    "- If we have another set of weights, can we do the same for different sets of weights together?\n"
   ]
  },
  {
   "cell_type": "markdown",
   "id": "7f2143b9-5795-4af8-8975-0852d5f37a28",
   "metadata": {},
   "source": [
    "### NumPy File I/O\n",
    "Consider the following file"
   ]
  },
  {
   "cell_type": "code",
   "execution_count": null,
   "id": "7ce0ec92-e76f-440e-88ea-4f87a77676de",
   "metadata": {},
   "outputs": [],
   "source": [
    "%%writefile data.csv\n",
    "1,2,3,4,5,6,7\n",
    "2,3,4,5,6,7,8\n",
    "3,4,5,6,7,8,9"
   ]
  },
  {
   "cell_type": "code",
   "execution_count": null,
   "id": "90fb49d5-c6e0-4828-9530-665d71432b9f",
   "metadata": {},
   "outputs": [],
   "source": [
    "# python's basic IO\n",
    "data = []\n",
    "with open(\"data.csv\") as f:\n",
    "    for line in f.readlines():\n",
    "        values = line.split(sep=\",\")\n",
    "        data.append(values)\n",
    "arr = np.array(data).astype\n",
    "print(arr)"
   ]
  },
  {
   "cell_type": "code",
   "execution_count": null,
   "id": "9287abc7-5fc1-4a6b-a1c5-75723a8ddb64",
   "metadata": {},
   "outputs": [],
   "source": [
    "# NumPy has loadtxt() function\n",
    "arr = np.loadtxt(\"data.csv\", delimiter=\",\")\n",
    "print(arr)\n"
   ]
  },
  {
   "cell_type": "code",
   "execution_count": null,
   "id": "81cade3a-2075-4e17-ada7-78f1faf9702c",
   "metadata": {},
   "outputs": [],
   "source": [
    "# or a more flexible function, np.genfromtxt()\n",
    "arr = np.genfromtxt(\"data.csv\", delimiter=\",\")\n",
    "print(arr)"
   ]
  },
  {
   "cell_type": "code",
   "execution_count": null,
   "id": "eeb26293-fa59-442f-8c83-64544ffaa56e",
   "metadata": {},
   "outputs": [],
   "source": [
    "# you can skip rows, which is handy when your data has a header\n",
    "arr = np.loadtxt(\"data.csv\", delimiter=\",\", skiprows=1)\n",
    "print(arr)\n",
    "\n",
    "arr = np.genfromtxt(\"data.csv\", delimiter=\",\", skip_header=1)\n",
    "print(arr)"
   ]
  },
  {
   "cell_type": "code",
   "execution_count": null,
   "id": "35d12f68-0480-479e-bb8f-1de442be6d02",
   "metadata": {},
   "outputs": [],
   "source": [
    "# save data to a text file\n",
    "np.savetxt(\"output.csv\", arr, delimiter=\",\")\n",
    "\n",
    "np.savetxt(\"output2.csv\", arr, fmt=\"%.2f\", delimiter=\",\")"
   ]
  },
  {
   "cell_type": "code",
   "execution_count": null,
   "id": "dd89e80e-d577-4023-95c0-4676437908ae",
   "metadata": {},
   "outputs": [],
   "source": [
    "!type output.csv\n",
    "!type output2.csv"
   ]
  }
 ],
 "metadata": {
  "kernelspec": {
   "display_name": "Python 3 (ipykernel)",
   "language": "python",
   "name": "python3"
  },
  "language_info": {
   "codemirror_mode": {
    "name": "ipython",
    "version": 3
   },
   "file_extension": ".py",
   "mimetype": "text/x-python",
   "name": "python",
   "nbconvert_exporter": "python",
   "pygments_lexer": "ipython3",
   "version": "3.10.16"
  }
 },
 "nbformat": 4,
 "nbformat_minor": 5
}
